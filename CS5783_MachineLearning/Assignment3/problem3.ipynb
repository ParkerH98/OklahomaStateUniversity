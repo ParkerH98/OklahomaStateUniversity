{
 "cells": [
  {
   "cell_type": "markdown",
   "metadata": {},
   "source": [
    "# Important Notes\n",
    "\n",
    "- see Question3_Handwritten.pdf for my handwritten calculations of Question 3 parts two and three.\n",
    "- I did my calculations by hand and used numpy to quickly calculate each dot product."
   ]
  },
  {
   "cell_type": "markdown",
   "metadata": {},
   "source": [
    "# Question 3\n",
    "\n",
    "## Part 1\n",
    "\n",
    "The input size of the matrix X is (6, 6, 1). The size of our filter is a (3, 3, 1). Both the input and the filter have a depth of 1.\n",
    "\n",
    "The number of parameters in the kernel are 10. That's ((filter_size * filter_size * input_depth + 1) * number_of_filters).\n",
    "\n",
    "((3 * 3 * 1 + 1) * 1) = 10 parameters\n",
    "\n",
    "---\n",
    "\n",
    "\n",
    "## Part 2\n",
    "\n",
    "I used the following code to help myself calculate the activation for each convolution across the input. I manually changed the a array to be the contents of the filter as it convolved across the X matrix.\n",
    "\n",
    "        a = np.array([[7,9,8], [6,9,0], [8,2,3]]).\n",
    "        f = np.array([[1,0,-1], [2,0,-2], [1,0,-1]]).\n",
    "\n",
    "        print(a).\n",
    "        print(np.sum(a * f)).\n",
    "\n",
    "**Answers on handwritten pdf Question3_Handwritten.pdf**\n",
    "\n",
    "---\n",
    "\n",
    "## Part 3\n",
    "\n",
    "I manually slid a 2x2 red square across the activation map and took the max value from the contents in each square.\n",
    "\n",
    "**Answers on handwritten pdf Question3_Handwritten.pdf**\n",
    "\n"
   ]
  }
 ],
 "metadata": {
  "interpreter": {
   "hash": "11f1dc213e07634baa4c5c321dec03c05dafae643c50f20e6d1a492290c05dc2"
  },
  "kernelspec": {
   "display_name": "Python 3.9.1 64-bit",
   "name": "python3"
  },
  "language_info": {
   "codemirror_mode": {
    "name": "ipython",
    "version": 3
   },
   "file_extension": ".py",
   "mimetype": "text/x-python",
   "name": "python",
   "nbconvert_exporter": "python",
   "pygments_lexer": "ipython3",
   "version": "3.9.1"
  },
  "orig_nbformat": 4
 },
 "nbformat": 4,
 "nbformat_minor": 2
}
