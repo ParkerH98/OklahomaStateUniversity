{
 "cells": [
  {
   "cell_type": "code",
   "execution_count": 54,
   "metadata": {},
   "outputs": [
    {
     "name": "stdout",
     "output_type": "stream",
     "text": [
      "The tensorboard extension is already loaded. To reload it, use:\n",
      "  %reload_ext tensorboard\n"
     ]
    }
   ],
   "source": [
    "# Load the TensorBoard notebook extension.\n",
    "%load_ext tensorboard\n",
    "\n",
    "from datetime import datetime\n",
    "from packaging import version\n",
    "\n",
    "import tensorflow as tf\n",
    "from tensorflow import keras\n",
    "import tensorflow.keras.layers as Layer\n",
    "\n",
    "import tensorboard\n",
    "import matplotlib.pyplot as plt\n",
    "\n",
    "import numpy as np"
   ]
  },
  {
   "cell_type": "code",
   "execution_count": 55,
   "metadata": {},
   "outputs": [],
   "source": [
    "# load the dataset and normalize\n",
    "(train_images, train_labels), (test_images, test_labels) = keras.datasets.mnist.load_data()\n",
    "train_images = train_images / 255.0\n",
    "\n",
    "x_train = train_images.reshape(-1, 28, 28, 1) #add an additional dimension to represent the single-channel\n",
    "x_test = test_images.reshape(-1, 28, 28, 1)\n",
    "\n",
    "np.random.seed(1)\n",
    "tf.random.set_seed(1)"
   ]
  },
  {
   "cell_type": "code",
   "execution_count": 56,
   "metadata": {},
   "outputs": [
    {
     "name": "stdout",
     "output_type": "stream",
     "text": [
      "Model: \"CNN_Increasing_Filters\"\n",
      "_________________________________________________________________\n",
      "Layer (type)                 Output Shape              Param #   \n",
      "=================================================================\n",
      "Conv_Layer_1 (Conv2D)        (1, 28, 28, 8)            80        \n",
      "_________________________________________________________________\n",
      "Conv_Layer_2 (Conv2D)        (1, 28, 28, 9)            657       \n",
      "_________________________________________________________________\n",
      "Conv_Layer_3 (Conv2D)        (1, 28, 28, 10)           820       \n",
      "_________________________________________________________________\n",
      "Pooling_Layer_14x14 (MaxPool (1, 14, 14, 10)           0         \n",
      "_________________________________________________________________\n",
      "Conv_Layer_4 (Conv2D)        (1, 14, 14, 20)           1820      \n",
      "_________________________________________________________________\n",
      "Conv_Layer_5 (Conv2D)        (1, 14, 14, 21)           3801      \n",
      "_________________________________________________________________\n",
      "Conv_Layer_6 (Conv2D)        (1, 14, 14, 22)           4180      \n",
      "_________________________________________________________________\n",
      "Pooling_Layer_7x7 (MaxPoolin (1, 7, 7, 22)             0         \n",
      "_________________________________________________________________\n",
      "Conv_Layer_7 (Conv2D)        (1, 7, 7, 44)             8756      \n",
      "_________________________________________________________________\n",
      "Conv_Layer_8 (Conv2D)        (1, 7, 7, 45)             17865     \n",
      "_________________________________________________________________\n",
      "Conv_Layer_9 (Conv2D)        (1, 7, 7, 46)             18676     \n",
      "_________________________________________________________________\n",
      "Pooling_Layer_3x3 (MaxPoolin (1, 3, 3, 46)             0         \n",
      "_________________________________________________________________\n",
      "Conv_Layer_10 (Conv2D)       (1, 3, 3, 92)             38180     \n",
      "_________________________________________________________________\n",
      "flatten_13 (Flatten)         (1, 828)                  0         \n",
      "_________________________________________________________________\n",
      "dense_26 (Dense)             (1, 184)                  152536    \n",
      "_________________________________________________________________\n",
      "activation_26 (Activation)   (1, 184)                  0         \n",
      "_________________________________________________________________\n",
      "dense_27 (Dense)             (1, 10)                   1850      \n",
      "_________________________________________________________________\n",
      "activation_27 (Activation)   (1, 10)                   0         \n",
      "=================================================================\n",
      "Total params: 249,221\n",
      "Trainable params: 249,221\n",
      "Non-trainable params: 0\n",
      "_________________________________________________________________\n"
     ]
    }
   ],
   "source": [
    "regular_model = tf.keras.models.Sequential(name='CNN_Increasing_Filters')\n",
    "\n",
    "regular_model.add(Layer.Conv2D(8, (3, 3), padding='same', activation='relu', name='Conv_Layer_1')) \n",
    "regular_model.add(Layer.Conv2D(9, (3, 3), padding='same', activation='relu', name='Conv_Layer_2'))\n",
    "regular_model.add(Layer.Conv2D(10, (3, 3),padding='same', activation='relu', name='Conv_Layer_3'))\n",
    "regular_model.add(Layer.MaxPooling2D(pool_size=(2, 2), strides=(2,2), name='Pooling_Layer_14x14'))\n",
    "\n",
    "regular_model.add(Layer.Conv2D(20, (3, 3), padding='same', activation='relu', name='Conv_Layer_4'))\n",
    "regular_model.add(Layer.Conv2D(21, (3, 3), padding='same', activation='relu', name='Conv_Layer_5'))\n",
    "regular_model.add(Layer.Conv2D(22, (3, 3),padding='same', activation='relu', name='Conv_Layer_6'))\n",
    "regular_model.add(Layer.MaxPooling2D(pool_size=(2, 2), strides=(2,2), name='Pooling_Layer_7x7'))\n",
    "\n",
    "regular_model.add(Layer.Conv2D(44, (3, 3), padding='same', activation='relu', name='Conv_Layer_7'))\n",
    "regular_model.add(Layer.Conv2D(45, (3, 3), padding='same', activation='relu', name='Conv_Layer_8'))\n",
    "regular_model.add(Layer.Conv2D(46, (3, 3), padding='same', activation='relu', name='Conv_Layer_9'))\n",
    "regular_model.add(Layer.MaxPooling2D(pool_size=(2, 2), strides=(2,2), name='Pooling_Layer_3x3'))\n",
    "\n",
    "regular_model.add(Layer.Conv2D(92, (3, 3), padding='same', activation='relu', name='Conv_Layer_10'))\n",
    "\n",
    "regular_model.add(Layer.Flatten())\n",
    "regular_model.add(Layer.Dense(184))\n",
    "regular_model.add(Layer.Activation('relu'))\n",
    "regular_model.add(Layer.Dense(10))\n",
    "regular_model.add(Layer.Activation('softmax'))\n",
    "\n",
    "regular_model.compile(loss='sparse_categorical_crossentropy', optimizer=tf.keras.optimizers.Adam(learning_rate=.001), metrics=['accuracy'])\n",
    "regular_model.build(input_shape=(1,28,28,1))\n",
    "regular_model.summary()\n"
   ]
  },
  {
   "cell_type": "code",
   "execution_count": 57,
   "metadata": {},
   "outputs": [
    {
     "name": "stderr",
     "output_type": "stream",
     "text": [
      "2021-10-17 17:35:01.647461: I tensorflow/core/profiler/lib/profiler_session.cc:131] Profiler session initializing.\n",
      "2021-10-17 17:35:01.647493: I tensorflow/core/profiler/lib/profiler_session.cc:146] Profiler session started.\n",
      "2021-10-17 17:35:01.659597: I tensorflow/core/profiler/lib/profiler_session.cc:164] Profiler session tear down.\n"
     ]
    },
    {
     "name": "stdout",
     "output_type": "stream",
     "text": [
      "  1/118 [..............................] - ETA: 2:28 - loss: 2.3023 - accuracy: 0.1055"
     ]
    },
    {
     "name": "stderr",
     "output_type": "stream",
     "text": [
      "2021-10-17 17:35:03.202657: I tensorflow/core/profiler/lib/profiler_session.cc:131] Profiler session initializing.\n",
      "2021-10-17 17:35:03.202682: I tensorflow/core/profiler/lib/profiler_session.cc:146] Profiler session started.\n"
     ]
    },
    {
     "name": "stdout",
     "output_type": "stream",
     "text": [
      "  2/118 [..............................] - ETA: 1:05 - loss: 2.3018 - accuracy: 0.0947"
     ]
    },
    {
     "name": "stderr",
     "output_type": "stream",
     "text": [
      "2021-10-17 17:35:03.817112: I tensorflow/core/profiler/lib/profiler_session.cc:66] Profiler session collecting data.\n",
      "2021-10-17 17:35:03.818661: I tensorflow/core/profiler/lib/profiler_session.cc:164] Profiler session tear down.\n",
      "2021-10-17 17:35:03.822231: I tensorflow/core/profiler/rpc/client/save_profile.cc:136] Creating directory: logs/fit/20211017-173501/train/plugins/profile/2021_10_17_17_35_03\n",
      "\n",
      "2021-10-17 17:35:03.826946: I tensorflow/core/profiler/rpc/client/save_profile.cc:142] Dumped gzipped tool data for trace.json.gz to logs/fit/20211017-173501/train/plugins/profile/2021_10_17_17_35_03/Parkers-MacBook-Pro.local.trace.json.gz\n",
      "2021-10-17 17:35:03.833327: I tensorflow/core/profiler/rpc/client/save_profile.cc:136] Creating directory: logs/fit/20211017-173501/train/plugins/profile/2021_10_17_17_35_03\n",
      "\n",
      "2021-10-17 17:35:03.833760: I tensorflow/core/profiler/rpc/client/save_profile.cc:142] Dumped gzipped tool data for memory_profile.json.gz to logs/fit/20211017-173501/train/plugins/profile/2021_10_17_17_35_03/Parkers-MacBook-Pro.local.memory_profile.json.gz\n",
      "2021-10-17 17:35:03.835827: I tensorflow/core/profiler/rpc/client/capture_profile.cc:251] Creating directory: logs/fit/20211017-173501/train/plugins/profile/2021_10_17_17_35_03\n",
      "Dumped tool data for xplane.pb to logs/fit/20211017-173501/train/plugins/profile/2021_10_17_17_35_03/Parkers-MacBook-Pro.local.xplane.pb\n",
      "Dumped tool data for overview_page.pb to logs/fit/20211017-173501/train/plugins/profile/2021_10_17_17_35_03/Parkers-MacBook-Pro.local.overview_page.pb\n",
      "Dumped tool data for input_pipeline.pb to logs/fit/20211017-173501/train/plugins/profile/2021_10_17_17_35_03/Parkers-MacBook-Pro.local.input_pipeline.pb\n",
      "Dumped tool data for tensorflow_stats.pb to logs/fit/20211017-173501/train/plugins/profile/2021_10_17_17_35_03/Parkers-MacBook-Pro.local.tensorflow_stats.pb\n",
      "Dumped tool data for kernel_stats.pb to logs/fit/20211017-173501/train/plugins/profile/2021_10_17_17_35_03/Parkers-MacBook-Pro.local.kernel_stats.pb\n",
      "\n"
     ]
    },
    {
     "name": "stdout",
     "output_type": "stream",
     "text": [
      "118/118 [==============================] - 40s 333ms/step - loss: 0.6424 - accuracy: 0.7772\n",
      "  1/235 [..............................] - ETA: 46s - loss: 0.0923 - accuracy: 0.9688"
     ]
    },
    {
     "name": "stderr",
     "output_type": "stream",
     "text": [
      "2021-10-17 17:35:42.458085: I tensorflow/core/profiler/lib/profiler_session.cc:131] Profiler session initializing.\n",
      "2021-10-17 17:35:42.458107: I tensorflow/core/profiler/lib/profiler_session.cc:146] Profiler session started.\n"
     ]
    },
    {
     "name": "stdout",
     "output_type": "stream",
     "text": [
      "  2/235 [..............................] - ETA: 55s - loss: 0.0773 - accuracy: 0.9746"
     ]
    },
    {
     "name": "stderr",
     "output_type": "stream",
     "text": [
      "2021-10-17 17:35:42.677955: I tensorflow/core/profiler/lib/profiler_session.cc:66] Profiler session collecting data.\n",
      "2021-10-17 17:35:42.679565: I tensorflow/core/profiler/lib/profiler_session.cc:164] Profiler session tear down.\n",
      "2021-10-17 17:35:42.680971: I tensorflow/core/profiler/rpc/client/save_profile.cc:136] Creating directory: logs/fit/20211017-173501/train/plugins/profile/2021_10_17_17_35_42\n",
      "\n",
      "2021-10-17 17:35:42.684712: I tensorflow/core/profiler/rpc/client/save_profile.cc:142] Dumped gzipped tool data for trace.json.gz to logs/fit/20211017-173501/train/plugins/profile/2021_10_17_17_35_42/Parkers-MacBook-Pro.local.trace.json.gz\n",
      "2021-10-17 17:35:42.687148: I tensorflow/core/profiler/rpc/client/save_profile.cc:136] Creating directory: logs/fit/20211017-173501/train/plugins/profile/2021_10_17_17_35_42\n",
      "\n",
      "2021-10-17 17:35:42.687412: I tensorflow/core/profiler/rpc/client/save_profile.cc:142] Dumped gzipped tool data for memory_profile.json.gz to logs/fit/20211017-173501/train/plugins/profile/2021_10_17_17_35_42/Parkers-MacBook-Pro.local.memory_profile.json.gz\n",
      "2021-10-17 17:35:42.688624: I tensorflow/core/profiler/rpc/client/capture_profile.cc:251] Creating directory: logs/fit/20211017-173501/train/plugins/profile/2021_10_17_17_35_42\n",
      "Dumped tool data for xplane.pb to logs/fit/20211017-173501/train/plugins/profile/2021_10_17_17_35_42/Parkers-MacBook-Pro.local.xplane.pb\n",
      "Dumped tool data for overview_page.pb to logs/fit/20211017-173501/train/plugins/profile/2021_10_17_17_35_42/Parkers-MacBook-Pro.local.overview_page.pb\n",
      "Dumped tool data for input_pipeline.pb to logs/fit/20211017-173501/train/plugins/profile/2021_10_17_17_35_42/Parkers-MacBook-Pro.local.input_pipeline.pb\n",
      "Dumped tool data for tensorflow_stats.pb to logs/fit/20211017-173501/train/plugins/profile/2021_10_17_17_35_42/Parkers-MacBook-Pro.local.tensorflow_stats.pb\n",
      "Dumped tool data for kernel_stats.pb to logs/fit/20211017-173501/train/plugins/profile/2021_10_17_17_35_42/Parkers-MacBook-Pro.local.kernel_stats.pb\n",
      "\n"
     ]
    },
    {
     "name": "stdout",
     "output_type": "stream",
     "text": [
      "235/235 [==============================] - 51s 216ms/step - loss: 0.0923 - accuracy: 0.9712\n",
      "313/313 [==============================] - 3s 9ms/step - loss: 6.6144 - accuracy: 0.9828\n",
      "Test loss: 6.614447593688965\n",
      "Test accuracy: 0.9828000068664551\n",
      "313/313 [==============================] - 3s 8ms/step - loss: 6.6144 - accuracy: 0.9828\n",
      "Test loss: 6.614447593688965\n",
      "Test accuracy: 0.9828000068664551\n"
     ]
    }
   ],
   "source": [
    "# Define the Keras TensorBoard callback.\n",
    "logdir=\"logs/fit/\" + datetime.now().strftime(\"%Y%m%d-%H%M%S\")\n",
    "tensorboard_callback = keras.callbacks.TensorBoard(log_dir=logdir)\n",
    "\n",
    "model1 = regular_model\n",
    "# Train the model.\n",
    "model1.fit(\n",
    "    x_train,\n",
    "    train_labels, \n",
    "    batch_size=512,\n",
    "    epochs=1,\n",
    "    callbacks=[tensorboard_callback])\n",
    "\n",
    "# Evaluate\n",
    "score = model1.evaluate(x_test, test_labels)\n",
    "print('Test loss:', score[0])\n",
    "print('Test accuracy:', score[1])\n",
    "\n",
    "# ------------------------------ learning rates ------------------------------ #\n",
    "# .01\n",
    "# Test loss: 2.326310873031616\n",
    "# Test accuracy: 0.10809999704360962\n",
    "\n",
    "# .001\n",
    "# Test loss: 18.132125854492188\n",
    "# Test accuracy: 0.9538000226020813\n",
    "\n",
    "# .0001\n",
    "# Test loss: 70.65046691894531\n",
    "# Test accuracy: 0.7976999878883362\n",
    "\n",
    "\n",
    "# -------------------------------- batch sizes ------------------------------- #\n",
    "# 64\n",
    "# Test loss: 4.986489295959473\n",
    "# Test accuracy: 0.9850000143051147\n",
    "\n",
    "# 128\n",
    "# Test loss: 13.246450424194336\n",
    "# Test accuracy: 0.9714999794960022\n",
    "\n",
    "# 256\n",
    "# Test loss: 9.630948066711426\n",
    "# Test accuracy: 0.9751999974250793\n",
    "\n",
    "# 512\n",
    "# Test loss: 16.442401885986328\n",
    "# Test accuracy: 0.9625999927520752\n"
   ]
  },
  {
   "cell_type": "code",
   "execution_count": 74,
   "metadata": {},
   "outputs": [
    {
     "name": "stdout",
     "output_type": "stream",
     "text": [
      "Model: \"CNN_Decreasing_Filters\"\n",
      "_________________________________________________________________\n",
      "Layer (type)                 Output Shape              Param #   \n",
      "=================================================================\n",
      "conv2d_81 (Conv2D)           (1, 28, 28, 100)          1000      \n",
      "_________________________________________________________________\n",
      "conv2d_82 (Conv2D)           (1, 28, 28, 99)           89199     \n",
      "_________________________________________________________________\n",
      "conv2d_83 (Conv2D)           (1, 28, 28, 98)           87416     \n",
      "_________________________________________________________________\n",
      "max_pooling2d_24 (MaxPooling (1, 14, 14, 98)           0         \n",
      "_________________________________________________________________\n",
      "conv2d_84 (Conv2D)           (1, 14, 14, 49)           43267     \n",
      "_________________________________________________________________\n",
      "conv2d_85 (Conv2D)           (1, 14, 14, 48)           21216     \n",
      "_________________________________________________________________\n",
      "conv2d_86 (Conv2D)           (1, 14, 14, 47)           20351     \n",
      "_________________________________________________________________\n",
      "max_pooling2d_25 (MaxPooling (1, 7, 7, 47)             0         \n",
      "_________________________________________________________________\n",
      "conv2d_87 (Conv2D)           (1, 7, 7, 24)             10176     \n",
      "_________________________________________________________________\n",
      "conv2d_88 (Conv2D)           (1, 7, 7, 23)             4991      \n",
      "_________________________________________________________________\n",
      "conv2d_89 (Conv2D)           (1, 7, 7, 22)             4576      \n",
      "_________________________________________________________________\n",
      "max_pooling2d_26 (MaxPooling (1, 3, 3, 22)             0         \n",
      "_________________________________________________________________\n",
      "conv2d_90 (Conv2D)           (1, 3, 3, 11)             2189      \n",
      "_________________________________________________________________\n",
      "flatten_22 (Flatten)         (1, 99)                   0         \n",
      "_________________________________________________________________\n",
      "dense_44 (Dense)             (1, 128)                  12800     \n",
      "_________________________________________________________________\n",
      "activation_44 (Activation)   (1, 128)                  0         \n",
      "_________________________________________________________________\n",
      "dense_45 (Dense)             (1, 10)                   1290      \n",
      "_________________________________________________________________\n",
      "activation_45 (Activation)   (1, 10)                   0         \n",
      "=================================================================\n",
      "Total params: 298,471\n",
      "Trainable params: 298,471\n",
      "Non-trainable params: 0\n",
      "_________________________________________________________________\n"
     ]
    }
   ],
   "source": [
    "inverted_model = tf.keras.models.Sequential(name='CNN_Decreasing_Filters')\n",
    "\n",
    "inverted_model.add(Layer.Conv2D(100, (3, 3), padding='same', activation='relu')) \n",
    "inverted_model.add(Layer.Conv2D(99, (3, 3), padding='same', activation='relu'))\n",
    "inverted_model.add(Layer.Conv2D(98, (3, 3),padding='same', activation='relu'))\n",
    "inverted_model.add(Layer.MaxPooling2D(pool_size=(2, 2), strides=(2,2)))\n",
    "\n",
    "inverted_model.add(Layer.Conv2D(49, (3, 3), padding='same', activation='relu'))\n",
    "inverted_model.add(Layer.Conv2D(48, (3, 3), padding='same', activation='relu'))\n",
    "inverted_model.add(Layer.Conv2D(47, (3, 3),padding='same', activation='relu'))\n",
    "inverted_model.add(Layer.MaxPooling2D(pool_size=(2, 2), strides=(2,2)))\n",
    "\n",
    "inverted_model.add(Layer.Conv2D(24, (3, 3), padding='same', activation='relu'))\n",
    "inverted_model.add(Layer.Conv2D(23, (3, 3), padding='same', activation='relu'))\n",
    "inverted_model.add(Layer.Conv2D(22, (3, 3), padding='same', activation='relu'))\n",
    "inverted_model.add(Layer.MaxPooling2D(pool_size=(2, 2), strides=(2,2)))\n",
    "\n",
    "inverted_model.add(Layer.Conv2D(11, (3, 3), padding='same', activation='relu'))\n",
    "\n",
    "inverted_model.add(Layer.Flatten())\n",
    "inverted_model.add(Layer.Dense(128))\n",
    "inverted_model.add(Layer.Activation('relu'))\n",
    "inverted_model.add(Layer.Dense(10))\n",
    "inverted_model.add(Layer.Activation('softmax'))\n",
    "\n",
    "inverted_model.compile(loss='sparse_categorical_crossentropy', optimizer=tf.keras.optimizers.Adam(learning_rate=.01), metrics=['accuracy'])\n",
    "inverted_model.build(input_shape=(1,28,28,1))\n",
    "inverted_model.summary()"
   ]
  },
  {
   "cell_type": "code",
   "execution_count": 76,
   "metadata": {},
   "outputs": [
    {
     "name": "stderr",
     "output_type": "stream",
     "text": [
      "2021-10-17 18:10:28.552081: I tensorflow/core/profiler/lib/profiler_session.cc:131] Profiler session initializing.\n",
      "2021-10-17 18:10:28.552096: I tensorflow/core/profiler/lib/profiler_session.cc:146] Profiler session started.\n",
      "2021-10-17 18:10:28.552350: I tensorflow/core/profiler/lib/profiler_session.cc:164] Profiler session tear down.\n"
     ]
    },
    {
     "name": "stdout",
     "output_type": "stream",
     "text": [
      "  1/118 [..............................] - ETA: 8:05 - loss: 2.2992 - accuracy: 0.1211"
     ]
    },
    {
     "name": "stderr",
     "output_type": "stream",
     "text": [
      "2021-10-17 18:10:32.902308: I tensorflow/core/profiler/lib/profiler_session.cc:131] Profiler session initializing.\n",
      "2021-10-17 18:10:32.902328: I tensorflow/core/profiler/lib/profiler_session.cc:146] Profiler session started.\n"
     ]
    },
    {
     "name": "stdout",
     "output_type": "stream",
     "text": [
      "  2/118 [..............................] - ETA: 5:56 - loss: 2.2984 - accuracy: 0.1201"
     ]
    },
    {
     "name": "stderr",
     "output_type": "stream",
     "text": [
      "2021-10-17 18:10:35.952353: I tensorflow/core/profiler/lib/profiler_session.cc:66] Profiler session collecting data.\n",
      "2021-10-17 18:10:35.953940: I tensorflow/core/profiler/lib/profiler_session.cc:164] Profiler session tear down.\n",
      "2021-10-17 18:10:35.956138: I tensorflow/core/profiler/rpc/client/save_profile.cc:136] Creating directory: logs/fit/20211017-181028/train/plugins/profile/2021_10_17_18_10_35\n",
      "\n",
      "2021-10-17 18:10:35.960002: I tensorflow/core/profiler/rpc/client/save_profile.cc:142] Dumped gzipped tool data for trace.json.gz to logs/fit/20211017-181028/train/plugins/profile/2021_10_17_18_10_35/Parkers-MacBook-Pro.local.trace.json.gz\n",
      "2021-10-17 18:10:35.962797: I tensorflow/core/profiler/rpc/client/save_profile.cc:136] Creating directory: logs/fit/20211017-181028/train/plugins/profile/2021_10_17_18_10_35\n",
      "\n",
      "2021-10-17 18:10:35.963137: I tensorflow/core/profiler/rpc/client/save_profile.cc:142] Dumped gzipped tool data for memory_profile.json.gz to logs/fit/20211017-181028/train/plugins/profile/2021_10_17_18_10_35/Parkers-MacBook-Pro.local.memory_profile.json.gz\n",
      "2021-10-17 18:10:35.964634: I tensorflow/core/profiler/rpc/client/capture_profile.cc:251] Creating directory: logs/fit/20211017-181028/train/plugins/profile/2021_10_17_18_10_35\n",
      "Dumped tool data for xplane.pb to logs/fit/20211017-181028/train/plugins/profile/2021_10_17_18_10_35/Parkers-MacBook-Pro.local.xplane.pb\n",
      "Dumped tool data for overview_page.pb to logs/fit/20211017-181028/train/plugins/profile/2021_10_17_18_10_35/Parkers-MacBook-Pro.local.overview_page.pb\n",
      "Dumped tool data for input_pipeline.pb to logs/fit/20211017-181028/train/plugins/profile/2021_10_17_18_10_35/Parkers-MacBook-Pro.local.input_pipeline.pb\n",
      "Dumped tool data for tensorflow_stats.pb to logs/fit/20211017-181028/train/plugins/profile/2021_10_17_18_10_35/Parkers-MacBook-Pro.local.tensorflow_stats.pb\n",
      "Dumped tool data for kernel_stats.pb to logs/fit/20211017-181028/train/plugins/profile/2021_10_17_18_10_35/Parkers-MacBook-Pro.local.kernel_stats.pb\n",
      "\n"
     ]
    },
    {
     "name": "stdout",
     "output_type": "stream",
     "text": [
      " 33/118 [=======>......................] - ETA: 4:48 - loss: 2.3026 - accuracy: 0.1087"
     ]
    },
    {
     "ename": "KeyboardInterrupt",
     "evalue": "",
     "output_type": "error",
     "traceback": [
      "\u001b[0;31m---------------------------------------------------------------------------\u001b[0m",
      "\u001b[0;31mKeyboardInterrupt\u001b[0m                         Traceback (most recent call last)",
      "\u001b[0;32m/var/folders/yq/sm28v1tn1ll9ymq1bh36sv300000gn/T/ipykernel_60445/3441796141.py\u001b[0m in \u001b[0;36m<module>\u001b[0;34m\u001b[0m\n\u001b[1;32m      5\u001b[0m \u001b[0mmodel2\u001b[0m \u001b[0;34m=\u001b[0m \u001b[0minverted_model\u001b[0m\u001b[0;34m\u001b[0m\u001b[0;34m\u001b[0m\u001b[0m\n\u001b[1;32m      6\u001b[0m \u001b[0;31m# Train the model.\u001b[0m\u001b[0;34m\u001b[0m\u001b[0;34m\u001b[0m\u001b[0m\n\u001b[0;32m----> 7\u001b[0;31m model2.fit(\n\u001b[0m\u001b[1;32m      8\u001b[0m     \u001b[0mx_train\u001b[0m\u001b[0;34m,\u001b[0m\u001b[0;34m\u001b[0m\u001b[0;34m\u001b[0m\u001b[0m\n\u001b[1;32m      9\u001b[0m     \u001b[0mtrain_labels\u001b[0m\u001b[0;34m,\u001b[0m\u001b[0;34m\u001b[0m\u001b[0;34m\u001b[0m\u001b[0m\n",
      "\u001b[0;32m/Library/Frameworks/Python.framework/Versions/3.9/lib/python3.9/site-packages/keras/engine/training.py\u001b[0m in \u001b[0;36mfit\u001b[0;34m(self, x, y, batch_size, epochs, verbose, callbacks, validation_split, validation_data, shuffle, class_weight, sample_weight, initial_epoch, steps_per_epoch, validation_steps, validation_batch_size, validation_freq, max_queue_size, workers, use_multiprocessing)\u001b[0m\n\u001b[1;32m   1182\u001b[0m                 _r=1):\n\u001b[1;32m   1183\u001b[0m               \u001b[0mcallbacks\u001b[0m\u001b[0;34m.\u001b[0m\u001b[0mon_train_batch_begin\u001b[0m\u001b[0;34m(\u001b[0m\u001b[0mstep\u001b[0m\u001b[0;34m)\u001b[0m\u001b[0;34m\u001b[0m\u001b[0;34m\u001b[0m\u001b[0m\n\u001b[0;32m-> 1184\u001b[0;31m               \u001b[0mtmp_logs\u001b[0m \u001b[0;34m=\u001b[0m \u001b[0mself\u001b[0m\u001b[0;34m.\u001b[0m\u001b[0mtrain_function\u001b[0m\u001b[0;34m(\u001b[0m\u001b[0miterator\u001b[0m\u001b[0;34m)\u001b[0m\u001b[0;34m\u001b[0m\u001b[0;34m\u001b[0m\u001b[0m\n\u001b[0m\u001b[1;32m   1185\u001b[0m               \u001b[0;32mif\u001b[0m \u001b[0mdata_handler\u001b[0m\u001b[0;34m.\u001b[0m\u001b[0mshould_sync\u001b[0m\u001b[0;34m:\u001b[0m\u001b[0;34m\u001b[0m\u001b[0;34m\u001b[0m\u001b[0m\n\u001b[1;32m   1186\u001b[0m                 \u001b[0mcontext\u001b[0m\u001b[0;34m.\u001b[0m\u001b[0masync_wait\u001b[0m\u001b[0;34m(\u001b[0m\u001b[0;34m)\u001b[0m\u001b[0;34m\u001b[0m\u001b[0;34m\u001b[0m\u001b[0m\n",
      "\u001b[0;32m/Library/Frameworks/Python.framework/Versions/3.9/lib/python3.9/site-packages/tensorflow/python/eager/def_function.py\u001b[0m in \u001b[0;36m__call__\u001b[0;34m(self, *args, **kwds)\u001b[0m\n\u001b[1;32m    883\u001b[0m \u001b[0;34m\u001b[0m\u001b[0m\n\u001b[1;32m    884\u001b[0m       \u001b[0;32mwith\u001b[0m \u001b[0mOptionalXlaContext\u001b[0m\u001b[0;34m(\u001b[0m\u001b[0mself\u001b[0m\u001b[0;34m.\u001b[0m\u001b[0m_jit_compile\u001b[0m\u001b[0;34m)\u001b[0m\u001b[0;34m:\u001b[0m\u001b[0;34m\u001b[0m\u001b[0;34m\u001b[0m\u001b[0m\n\u001b[0;32m--> 885\u001b[0;31m         \u001b[0mresult\u001b[0m \u001b[0;34m=\u001b[0m \u001b[0mself\u001b[0m\u001b[0;34m.\u001b[0m\u001b[0m_call\u001b[0m\u001b[0;34m(\u001b[0m\u001b[0;34m*\u001b[0m\u001b[0margs\u001b[0m\u001b[0;34m,\u001b[0m \u001b[0;34m**\u001b[0m\u001b[0mkwds\u001b[0m\u001b[0;34m)\u001b[0m\u001b[0;34m\u001b[0m\u001b[0;34m\u001b[0m\u001b[0m\n\u001b[0m\u001b[1;32m    886\u001b[0m \u001b[0;34m\u001b[0m\u001b[0m\n\u001b[1;32m    887\u001b[0m       \u001b[0mnew_tracing_count\u001b[0m \u001b[0;34m=\u001b[0m \u001b[0mself\u001b[0m\u001b[0;34m.\u001b[0m\u001b[0mexperimental_get_tracing_count\u001b[0m\u001b[0;34m(\u001b[0m\u001b[0;34m)\u001b[0m\u001b[0;34m\u001b[0m\u001b[0;34m\u001b[0m\u001b[0m\n",
      "\u001b[0;32m/Library/Frameworks/Python.framework/Versions/3.9/lib/python3.9/site-packages/tensorflow/python/eager/def_function.py\u001b[0m in \u001b[0;36m_call\u001b[0;34m(self, *args, **kwds)\u001b[0m\n\u001b[1;32m    915\u001b[0m       \u001b[0;31m# In this case we have created variables on the first call, so we run the\u001b[0m\u001b[0;34m\u001b[0m\u001b[0;34m\u001b[0m\u001b[0m\n\u001b[1;32m    916\u001b[0m       \u001b[0;31m# defunned version which is guaranteed to never create variables.\u001b[0m\u001b[0;34m\u001b[0m\u001b[0;34m\u001b[0m\u001b[0m\n\u001b[0;32m--> 917\u001b[0;31m       \u001b[0;32mreturn\u001b[0m \u001b[0mself\u001b[0m\u001b[0;34m.\u001b[0m\u001b[0m_stateless_fn\u001b[0m\u001b[0;34m(\u001b[0m\u001b[0;34m*\u001b[0m\u001b[0margs\u001b[0m\u001b[0;34m,\u001b[0m \u001b[0;34m**\u001b[0m\u001b[0mkwds\u001b[0m\u001b[0;34m)\u001b[0m  \u001b[0;31m# pylint: disable=not-callable\u001b[0m\u001b[0;34m\u001b[0m\u001b[0;34m\u001b[0m\u001b[0m\n\u001b[0m\u001b[1;32m    918\u001b[0m     \u001b[0;32melif\u001b[0m \u001b[0mself\u001b[0m\u001b[0;34m.\u001b[0m\u001b[0m_stateful_fn\u001b[0m \u001b[0;32mis\u001b[0m \u001b[0;32mnot\u001b[0m \u001b[0;32mNone\u001b[0m\u001b[0;34m:\u001b[0m\u001b[0;34m\u001b[0m\u001b[0;34m\u001b[0m\u001b[0m\n\u001b[1;32m    919\u001b[0m       \u001b[0;31m# Release the lock early so that multiple threads can perform the call\u001b[0m\u001b[0;34m\u001b[0m\u001b[0;34m\u001b[0m\u001b[0m\n",
      "\u001b[0;32m/Library/Frameworks/Python.framework/Versions/3.9/lib/python3.9/site-packages/tensorflow/python/eager/function.py\u001b[0m in \u001b[0;36m__call__\u001b[0;34m(self, *args, **kwargs)\u001b[0m\n\u001b[1;32m   3037\u001b[0m       (graph_function,\n\u001b[1;32m   3038\u001b[0m        filtered_flat_args) = self._maybe_define_function(args, kwargs)\n\u001b[0;32m-> 3039\u001b[0;31m     return graph_function._call_flat(\n\u001b[0m\u001b[1;32m   3040\u001b[0m         filtered_flat_args, captured_inputs=graph_function.captured_inputs)  # pylint: disable=protected-access\n\u001b[1;32m   3041\u001b[0m \u001b[0;34m\u001b[0m\u001b[0m\n",
      "\u001b[0;32m/Library/Frameworks/Python.framework/Versions/3.9/lib/python3.9/site-packages/tensorflow/python/eager/function.py\u001b[0m in \u001b[0;36m_call_flat\u001b[0;34m(self, args, captured_inputs, cancellation_manager)\u001b[0m\n\u001b[1;32m   1961\u001b[0m         and executing_eagerly):\n\u001b[1;32m   1962\u001b[0m       \u001b[0;31m# No tape is watching; skip to running the function.\u001b[0m\u001b[0;34m\u001b[0m\u001b[0;34m\u001b[0m\u001b[0m\n\u001b[0;32m-> 1963\u001b[0;31m       return self._build_call_outputs(self._inference_function.call(\n\u001b[0m\u001b[1;32m   1964\u001b[0m           ctx, args, cancellation_manager=cancellation_manager))\n\u001b[1;32m   1965\u001b[0m     forward_backward = self._select_forward_and_backward_functions(\n",
      "\u001b[0;32m/Library/Frameworks/Python.framework/Versions/3.9/lib/python3.9/site-packages/tensorflow/python/eager/function.py\u001b[0m in \u001b[0;36mcall\u001b[0;34m(self, ctx, args, cancellation_manager)\u001b[0m\n\u001b[1;32m    589\u001b[0m       \u001b[0;32mwith\u001b[0m \u001b[0m_InterpolateFunctionError\u001b[0m\u001b[0;34m(\u001b[0m\u001b[0mself\u001b[0m\u001b[0;34m)\u001b[0m\u001b[0;34m:\u001b[0m\u001b[0;34m\u001b[0m\u001b[0;34m\u001b[0m\u001b[0m\n\u001b[1;32m    590\u001b[0m         \u001b[0;32mif\u001b[0m \u001b[0mcancellation_manager\u001b[0m \u001b[0;32mis\u001b[0m \u001b[0;32mNone\u001b[0m\u001b[0;34m:\u001b[0m\u001b[0;34m\u001b[0m\u001b[0;34m\u001b[0m\u001b[0m\n\u001b[0;32m--> 591\u001b[0;31m           outputs = execute.execute(\n\u001b[0m\u001b[1;32m    592\u001b[0m               \u001b[0mstr\u001b[0m\u001b[0;34m(\u001b[0m\u001b[0mself\u001b[0m\u001b[0;34m.\u001b[0m\u001b[0msignature\u001b[0m\u001b[0;34m.\u001b[0m\u001b[0mname\u001b[0m\u001b[0;34m)\u001b[0m\u001b[0;34m,\u001b[0m\u001b[0;34m\u001b[0m\u001b[0;34m\u001b[0m\u001b[0m\n\u001b[1;32m    593\u001b[0m               \u001b[0mnum_outputs\u001b[0m\u001b[0;34m=\u001b[0m\u001b[0mself\u001b[0m\u001b[0;34m.\u001b[0m\u001b[0m_num_outputs\u001b[0m\u001b[0;34m,\u001b[0m\u001b[0;34m\u001b[0m\u001b[0;34m\u001b[0m\u001b[0m\n",
      "\u001b[0;32m/Library/Frameworks/Python.framework/Versions/3.9/lib/python3.9/site-packages/tensorflow/python/eager/execute.py\u001b[0m in \u001b[0;36mquick_execute\u001b[0;34m(op_name, num_outputs, inputs, attrs, ctx, name)\u001b[0m\n\u001b[1;32m     57\u001b[0m   \u001b[0;32mtry\u001b[0m\u001b[0;34m:\u001b[0m\u001b[0;34m\u001b[0m\u001b[0;34m\u001b[0m\u001b[0m\n\u001b[1;32m     58\u001b[0m     \u001b[0mctx\u001b[0m\u001b[0;34m.\u001b[0m\u001b[0mensure_initialized\u001b[0m\u001b[0;34m(\u001b[0m\u001b[0;34m)\u001b[0m\u001b[0;34m\u001b[0m\u001b[0;34m\u001b[0m\u001b[0m\n\u001b[0;32m---> 59\u001b[0;31m     tensors = pywrap_tfe.TFE_Py_Execute(ctx._handle, device_name, op_name,\n\u001b[0m\u001b[1;32m     60\u001b[0m                                         inputs, attrs, num_outputs)\n\u001b[1;32m     61\u001b[0m   \u001b[0;32mexcept\u001b[0m \u001b[0mcore\u001b[0m\u001b[0;34m.\u001b[0m\u001b[0m_NotOkStatusException\u001b[0m \u001b[0;32mas\u001b[0m \u001b[0me\u001b[0m\u001b[0;34m:\u001b[0m\u001b[0;34m\u001b[0m\u001b[0;34m\u001b[0m\u001b[0m\n",
      "\u001b[0;31mKeyboardInterrupt\u001b[0m: "
     ]
    }
   ],
   "source": [
    "# Define the Keras TensorBoard callback.\n",
    "logdir=\"logs/fit/\" + datetime.now().strftime(\"%Y%m%d-%H%M%S\")\n",
    "tensorboard_callback = keras.callbacks.TensorBoard(log_dir=logdir)\n",
    "\n",
    "model2 = inverted_model\n",
    "# Train the model.\n",
    "model2.fit(\n",
    "    x_train,\n",
    "    train_labels, \n",
    "    batch_size=512,\n",
    "    epochs=1,\n",
    "    callbacks=[tensorboard_callback])\n",
    "\n",
    "# Evaluate\n",
    "score = model2.evaluate(x_test, test_labels)\n",
    "print('Test loss:', score[0])\n",
    "print('Test accuracy:', score[1])\n",
    "\n",
    "# ------------------------------ learning rates ------------------------------ #\n",
    "# .01\n",
    "\n",
    "\n",
    "# .001\n",
    "\n",
    "\n",
    "# .0001\n",
    "\n",
    "\n",
    "\n",
    "# -------------------------------- batch sizes ------------------------------- #\n",
    "# 64\n",
    "\n",
    "# 128\n",
    "\n",
    "\n",
    "# 256\n",
    "\n",
    "\n",
    "# 512\n"
   ]
  }
 ],
 "metadata": {
  "interpreter": {
   "hash": "aee8b7b246df8f9039afb4144a1f6fd8d2ca17a180786b69acc140d282b71a49"
  },
  "kernelspec": {
   "display_name": "Python 3.9.7 64-bit",
   "name": "python3"
  },
  "language_info": {
   "codemirror_mode": {
    "name": "ipython",
    "version": 3
   },
   "file_extension": ".py",
   "mimetype": "text/x-python",
   "name": "python",
   "nbconvert_exporter": "python",
   "pygments_lexer": "ipython3",
   "version": "3.9.7"
  },
  "orig_nbformat": 4
 },
 "nbformat": 4,
 "nbformat_minor": 2
}
